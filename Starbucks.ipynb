{
 "cells": [
  {
   "cell_type": "markdown",
   "metadata": {},
   "source": [
    "## Portfolio Exercise: Starbucks\n",
    "<br>\n",
    "\n",
    "<img src=\"https://opj.ca/wp-content/uploads/2018/02/New-Starbucks-Logo-1200x969.jpg\" width=\"200\" height=\"200\">\n",
    "<br>\n",
    "<br>\n",
    " \n",
    "#### Background Information\n",
    "\n",
    "The dataset you will be provided in this portfolio exercise was originally used as a take-home assignment provided by Starbucks for their job candidates. The data for this exercise consists of about 120,000 data points split in a 2:1 ratio among training and test files. In the experiment simulated by the data, an advertising promotion was tested to see if it would bring more customers to purchase a specific product priced at $10. Since it costs the company 0.15 to send out each promotion, it would be best to limit that promotion only to those that are most receptive to the promotion. Each data point includes one column indicating whether or not an individual was sent a promotion for the product, and one column indicating whether or not that individual eventually purchased that product. Each individual also has seven additional features associated with them, which are provided abstractly as V1-V7.\n",
    "\n",
    "#### Optimization Strategy\n",
    "\n",
    "Your task is to use the training data to understand what patterns in V1-V7 to indicate that a promotion should be provided to a user. Specifically, your goal is to maximize the following metrics:\n",
    "\n",
    "* **Incremental Response Rate (IRR)** \n",
    "\n",
    "IRR depicts how many more customers purchased the product with the promotion, as compared to if they didn't receive the promotion. Mathematically, it's the ratio of the number of purchasers in the promotion group to the total number of customers in the purchasers group (_treatment_) minus the ratio of the number of purchasers in the non-promotional group to the total number of customers in the non-promotional group (_control_).\n",
    "\n",
    "$$ IRR = \\frac{purch_{treat}}{cust_{treat}} - \\frac{purch_{ctrl}}{cust_{ctrl}} $$\n",
    "\n",
    "\n",
    "* **Net Incremental Revenue (NIR)**\n",
    "\n",
    "NIR depicts how much is made (or lost) by sending out the promotion. Mathematically, this is 10 times the total number of purchasers that received the promotion minus 0.15 times the number of promotions sent out, minus 10 times the number of purchasers who were not given the promotion.\n",
    "\n",
    "$$ NIR = (10\\cdot purch_{treat} - 0.15 \\cdot cust_{treat}) - 10 \\cdot purch_{ctrl}$$\n",
    "\n",
    "For a full description of what Starbucks provides to candidates see the [instructions available here](https://drive.google.com/open?id=18klca9Sef1Rs6q8DW4l7o349r8B70qXM).\n",
    "\n",
    "Below you can find the training data provided.  Explore the data and different optimization strategies.\n",
    "\n",
    "#### How To Test Your Strategy?\n",
    "\n",
    "When you feel like you have an optimization strategy, complete the `promotion_strategy` function to pass to the `test_results` function.  \n",
    "From past data, we know there are four possible outomes:\n",
    "\n",
    "Table of actual promotion vs. predicted promotion customers:  \n",
    "\n",
    "<table>\n",
    "<tr><th></th><th colspan = '2'>Actual</th></tr>\n",
    "<tr><th>Predicted</th><th>Yes</th><th>No</th></tr>\n",
    "<tr><th>Yes</th><td>I</td><td>II</td></tr>\n",
    "<tr><th>No</th><td>III</td><td>IV</td></tr>\n",
    "</table>\n",
    "\n",
    "The metrics are only being compared for the individuals we predict should obtain the promotion – that is, quadrants I and II.  Since the first set of individuals that receive the promotion (in the training set) receive it randomly, we can expect that quadrants I and II will have approximately equivalent participants.  \n",
    "\n",
    "Comparing quadrant I to II then gives an idea of how well your promotion strategy will work in the future. \n",
    "\n",
    "Get started by reading in the data below.  See how each variable or combination of variables along with a promotion influences the chance of purchasing.  When you feel like you have a strategy for who should receive a promotion, test your strategy against the test dataset used in the final `test_results` function."
   ]
  },
  {
   "cell_type": "code",
   "execution_count": 1,
   "metadata": {},
   "outputs": [
    {
     "data": {
      "text/html": [
       "<div>\n",
       "<style scoped>\n",
       "    .dataframe tbody tr th:only-of-type {\n",
       "        vertical-align: middle;\n",
       "    }\n",
       "\n",
       "    .dataframe tbody tr th {\n",
       "        vertical-align: top;\n",
       "    }\n",
       "\n",
       "    .dataframe thead th {\n",
       "        text-align: right;\n",
       "    }\n",
       "</style>\n",
       "<table border=\"1\" class=\"dataframe\">\n",
       "  <thead>\n",
       "    <tr style=\"text-align: right;\">\n",
       "      <th></th>\n",
       "      <th>ID</th>\n",
       "      <th>Promotion</th>\n",
       "      <th>purchase</th>\n",
       "      <th>V1</th>\n",
       "      <th>V2</th>\n",
       "      <th>V3</th>\n",
       "      <th>V4</th>\n",
       "      <th>V5</th>\n",
       "      <th>V6</th>\n",
       "      <th>V7</th>\n",
       "    </tr>\n",
       "  </thead>\n",
       "  <tbody>\n",
       "    <tr>\n",
       "      <th>0</th>\n",
       "      <td>2</td>\n",
       "      <td>No</td>\n",
       "      <td>0</td>\n",
       "      <td>1</td>\n",
       "      <td>41.376390</td>\n",
       "      <td>1.172517</td>\n",
       "      <td>1</td>\n",
       "      <td>1</td>\n",
       "      <td>2</td>\n",
       "      <td>2</td>\n",
       "    </tr>\n",
       "    <tr>\n",
       "      <th>1</th>\n",
       "      <td>6</td>\n",
       "      <td>Yes</td>\n",
       "      <td>0</td>\n",
       "      <td>1</td>\n",
       "      <td>25.163598</td>\n",
       "      <td>0.653050</td>\n",
       "      <td>2</td>\n",
       "      <td>2</td>\n",
       "      <td>2</td>\n",
       "      <td>2</td>\n",
       "    </tr>\n",
       "    <tr>\n",
       "      <th>2</th>\n",
       "      <td>7</td>\n",
       "      <td>Yes</td>\n",
       "      <td>0</td>\n",
       "      <td>1</td>\n",
       "      <td>26.553778</td>\n",
       "      <td>-1.597972</td>\n",
       "      <td>2</td>\n",
       "      <td>3</td>\n",
       "      <td>4</td>\n",
       "      <td>2</td>\n",
       "    </tr>\n",
       "    <tr>\n",
       "      <th>3</th>\n",
       "      <td>10</td>\n",
       "      <td>No</td>\n",
       "      <td>0</td>\n",
       "      <td>2</td>\n",
       "      <td>28.529691</td>\n",
       "      <td>-1.078506</td>\n",
       "      <td>2</td>\n",
       "      <td>3</td>\n",
       "      <td>2</td>\n",
       "      <td>2</td>\n",
       "    </tr>\n",
       "    <tr>\n",
       "      <th>4</th>\n",
       "      <td>12</td>\n",
       "      <td>No</td>\n",
       "      <td>0</td>\n",
       "      <td>2</td>\n",
       "      <td>32.378538</td>\n",
       "      <td>0.479895</td>\n",
       "      <td>2</td>\n",
       "      <td>2</td>\n",
       "      <td>1</td>\n",
       "      <td>2</td>\n",
       "    </tr>\n",
       "  </tbody>\n",
       "</table>\n",
       "</div>"
      ],
      "text/plain": [
       "   ID Promotion  purchase  V1         V2        V3  V4  V5  V6  V7\n",
       "0   2        No         0   1  41.376390  1.172517   1   1   2   2\n",
       "1   6       Yes         0   1  25.163598  0.653050   2   2   2   2\n",
       "2   7       Yes         0   1  26.553778 -1.597972   2   3   4   2\n",
       "3  10        No         0   2  28.529691 -1.078506   2   3   2   2\n",
       "4  12        No         0   2  32.378538  0.479895   2   2   1   2"
      ]
     },
     "execution_count": 1,
     "metadata": {},
     "output_type": "execute_result"
    }
   ],
   "source": [
    "# load in packages\n",
    "from itertools import combinations\n",
    "\n",
    "from test_results import test_results, score\n",
    "import numpy as np\n",
    "import pandas as pd\n",
    "import scipy as sp\n",
    "import sklearn as sk\n",
    "\n",
    "import matplotlib.pyplot as plt\n",
    "import seaborn as sb\n",
    "%matplotlib inline\n",
    "\n",
    "# load in the data\n",
    "train_data = pd.read_csv('./training.csv')\n",
    "train_data.head()\n",
    "\n",
    "test_data = pd.read_csv('./Test.csv')\n",
    "test_data.head()"
   ]
  },
  {
   "cell_type": "code",
   "execution_count": null,
   "metadata": {},
   "outputs": [],
   "source": [
    "# Cells for you to work and document as necessary - \n",
    "# definitely feel free to add more cells as you need"
   ]
  },
  {
   "cell_type": "code",
   "execution_count": 2,
   "metadata": {},
   "outputs": [
    {
     "name": "stdout",
     "output_type": "stream",
     "text": [
      "Training Set | Control Group: 42170\n",
      "Training Set | Experiment Group: 42364\n",
      "Test Set | Control Group: 20739\n",
      "Test Set | Experiment Group: 20911\n"
     ]
    },
    {
     "name": "stderr",
     "output_type": "stream",
     "text": [
      "/home/max/anaconda3/lib/python3.7/site-packages/ipykernel_launcher.py:4: UserWarning: Boolean Series key will be reindexed to match DataFrame index.\n",
      "  after removing the cwd from sys.path.\n",
      "/home/max/anaconda3/lib/python3.7/site-packages/ipykernel_launcher.py:5: UserWarning: Boolean Series key will be reindexed to match DataFrame index.\n",
      "  \"\"\"\n"
     ]
    }
   ],
   "source": [
    "# Compare sizes of control and Experiment group\n",
    "print('Training Set | Control Group: {}'.format(len(train_data[train_data['Promotion'] == 'No'])))\n",
    "print('Training Set | Experiment Group: {}'.format(len(train_data[train_data['Promotion'] == 'Yes'])))\n",
    "print('Test Set | Control Group: {}'.format(len(test_data[train_data['Promotion'] == 'No'])))\n",
    "print('Test Set | Experiment Group: {}'.format(len(test_data[train_data['Promotion'] == 'Yes'])))"
   ]
  },
  {
   "cell_type": "code",
   "execution_count": 3,
   "metadata": {},
   "outputs": [
    {
     "data": {
      "text/plain": [
       "Promotion\n",
       "No     42170\n",
       "Yes    42364\n",
       "dtype: int64"
      ]
     },
     "execution_count": 3,
     "metadata": {},
     "output_type": "execute_result"
    }
   ],
   "source": [
    "# Compare group sizes with less code\n",
    "train_data.groupby('Promotion').size()"
   ]
  },
  {
   "cell_type": "code",
   "execution_count": 4,
   "metadata": {},
   "outputs": [
    {
     "data": {
      "image/png": "[encoded data removed]",
      "text/plain": [
       "<Figure size 432x288 with 1 Axes>"
      ]
     },
     "metadata": {
      "needs_background": "light"
     },
     "output_type": "display_data"
    },
    {
     "data": {
      "image/png": "[encoded data removed]",
      "text/plain": [
       "<Figure size 432x288 with 1 Axes>"
      ]
     },
     "metadata": {
      "needs_background": "light"
     },
     "output_type": "display_data"
    },
    {
     "data": {
      "image/png": "[encoded data removed]",
      "text/plain": [
       "<Figure size 432x288 with 1 Axes>"
      ]
     },
     "metadata": {
      "needs_background": "light"
     },
     "output_type": "display_data"
    },
    {
     "data": {
      "image/png": "[encoded data removed]",
      "text/plain": [
       "<Figure size 432x288 with 1 Axes>"
      ]
     },
     "metadata": {
      "needs_background": "light"
     },
     "output_type": "display_data"
    },
    {
     "data": {
      "image/png": "[encoded data removed]",
      "text/plain": [
       "<Figure size 432x288 with 1 Axes>"
      ]
     },
     "metadata": {
      "needs_background": "light"
     },
     "output_type": "display_data"
    },
    {
     "data": {
      "image/png": "[encoded data removed]",
      "text/plain": [
       "<Figure size 432x288 with 1 Axes>"
      ]
     },
     "metadata": {
      "needs_background": "light"
     },
     "output_type": "display_data"
    },
    {
     "data": {
      "image/png": "[encoded data removed]",
      "text/plain": [
       "<Figure size 432x288 with 1 Axes>"
      ]
     },
     "metadata": {
      "needs_background": "light"
     },
     "output_type": "display_data"
    }
   ],
   "source": [
    "# Plot distributions of features\n",
    "features = train_data.columns[3:].to_list()\n",
    "\n",
    "for feature in features:\n",
    "    plt.hist(train_data[feature])\n",
    "    plt.title('Distribution of {}'.format(feature))\n",
    "    plt.show()"
   ]
  },
  {
   "cell_type": "code",
   "execution_count": 5,
   "metadata": {},
   "outputs": [
    {
     "data": {
      "text/plain": [
       "ID             int64\n",
       "Promotion     object\n",
       "purchase       int64\n",
       "V1             int64\n",
       "V2           float64\n",
       "V3           float64\n",
       "V4             int64\n",
       "V5             int64\n",
       "V6             int64\n",
       "V7             int64\n",
       "dtype: object"
      ]
     },
     "execution_count": 5,
     "metadata": {},
     "output_type": "execute_result"
    }
   ],
   "source": [
    "# Show data types of train_data\n",
    "train_data.dtypes"
   ]
  },
  {
   "cell_type": "markdown",
   "metadata": {},
   "source": [
    "From the dtypes and the distributions of the features I assume that V2 and V3 are continuous variables, whereas the other features might be categorial variables. "
   ]
  },
  {
   "cell_type": "code",
   "execution_count": 6,
   "metadata": {},
   "outputs": [
    {
     "data": {
      "text/html": [
       "<div>\n",
       "<style scoped>\n",
       "    .dataframe tbody tr th:only-of-type {\n",
       "        vertical-align: middle;\n",
       "    }\n",
       "\n",
       "    .dataframe tbody tr th {\n",
       "        vertical-align: top;\n",
       "    }\n",
       "\n",
       "    .dataframe thead th {\n",
       "        text-align: right;\n",
       "    }\n",
       "</style>\n",
       "<table border=\"1\" class=\"dataframe\">\n",
       "  <thead>\n",
       "    <tr style=\"text-align: right;\">\n",
       "      <th></th>\n",
       "      <th>ID</th>\n",
       "      <th>purchase</th>\n",
       "      <th>V1</th>\n",
       "      <th>V2</th>\n",
       "      <th>V3</th>\n",
       "      <th>V4</th>\n",
       "      <th>V5</th>\n",
       "      <th>V6</th>\n",
       "      <th>V7</th>\n",
       "    </tr>\n",
       "    <tr>\n",
       "      <th>Promotion</th>\n",
       "      <th></th>\n",
       "      <th></th>\n",
       "      <th></th>\n",
       "      <th></th>\n",
       "      <th></th>\n",
       "      <th></th>\n",
       "      <th></th>\n",
       "      <th></th>\n",
       "      <th></th>\n",
       "    </tr>\n",
       "  </thead>\n",
       "  <tbody>\n",
       "    <tr>\n",
       "      <th>No</th>\n",
       "      <td>63094.836661</td>\n",
       "      <td>0.007565</td>\n",
       "      <td>1.496277</td>\n",
       "      <td>29.976876</td>\n",
       "      <td>-0.007099</td>\n",
       "      <td>1.680270</td>\n",
       "      <td>2.330638</td>\n",
       "      <td>2.501565</td>\n",
       "      <td>1.702205</td>\n",
       "    </tr>\n",
       "    <tr>\n",
       "      <th>Yes</th>\n",
       "      <td>62847.675385</td>\n",
       "      <td>0.017019</td>\n",
       "      <td>1.505028</td>\n",
       "      <td>29.970338</td>\n",
       "      <td>0.007446</td>\n",
       "      <td>1.678949</td>\n",
       "      <td>2.324662</td>\n",
       "      <td>2.504225</td>\n",
       "      <td>1.701185</td>\n",
       "    </tr>\n",
       "  </tbody>\n",
       "</table>\n",
       "</div>"
      ],
      "text/plain": [
       "                     ID  purchase        V1         V2        V3        V4  \\\n",
       "Promotion                                                                    \n",
       "No         63094.836661  0.007565  1.496277  29.976876 -0.007099  1.680270   \n",
       "Yes        62847.675385  0.017019  1.505028  29.970338  0.007446  1.678949   \n",
       "\n",
       "                 V5        V6        V7  \n",
       "Promotion                                \n",
       "No         2.330638  2.501565  1.702205  \n",
       "Yes        2.324662  2.504225  1.701185  "
      ]
     },
     "execution_count": 6,
     "metadata": {},
     "output_type": "execute_result"
    }
   ],
   "source": [
    "# Show different means\n",
    "train_data.groupby('Promotion').mean()"
   ]
  },
  {
   "cell_type": "code",
   "execution_count": 7,
   "metadata": {},
   "outputs": [
    {
     "data": {
      "text/plain": [
       "Promotion\n",
       "No     0.007565\n",
       "Yes    0.017019\n",
       "Name: purchase, dtype: float64"
      ]
     },
     "execution_count": 7,
     "metadata": {},
     "output_type": "execute_result"
    }
   ],
   "source": [
    "train_data.groupby('Promotion').mean()['purchase']"
   ]
  },
  {
   "cell_type": "code",
   "execution_count": 8,
   "metadata": {},
   "outputs": [
    {
     "name": "stdout",
     "output_type": "stream",
     "text": [
      "p-value of obtaining the sample mean under the null: 0.0\n",
      "sample range (differences between control and exp. group): -0.0032005957962661386-0.003894028215821743\n"
     ]
    }
   ],
   "source": [
    "# Testing statistical significance of purchases by simulating outcome under null hypothesis (promotion has no effect)\n",
    "n_control = train_data.groupby('Promotion').size()[0]\n",
    "n_exper = train_data.groupby('Promotion').size()[1]\n",
    "p_null = train_data['purchase'].mean()\n",
    "p_actual_purchase = train_data.groupby('Promotion').mean()['purchase']\n",
    "\n",
    "n_trials = 200_000\n",
    "\n",
    "control_puchases = np.random.binomial(n_control, p_null, n_trials)\n",
    "experiment_puchases = np.random.binomial(n_exper, p_null, n_trials)\n",
    "samples = experiment_puchases / n_exper - control_puchases / n_control\n",
    "\n",
    "print('p-value of obtaining the sample mean under the null: {}'.format((samples >= (p_actual_purchase['Yes'] - p_actual_purchase['No'])).mean()))\n",
    "print('sample range (differences between control and exp. group): {}-{}'.format(min(samples), max(samples)))"
   ]
  },
  {
   "cell_type": "markdown",
   "metadata": {},
   "source": [
    "--> Reject the null due to the low p-value"
   ]
  },
  {
   "cell_type": "code",
   "execution_count": 19,
   "metadata": {},
   "outputs": [
    {
     "data": {
      "image/png": "[encoded data removed]",
      "text/plain": [
       "<Figure size 432x288 with 1 Axes>"
      ]
     },
     "metadata": {
      "needs_background": "light"
     },
     "output_type": "display_data"
    },
    {
     "data": {
      "image/png": "[encoded data removed]",
      "text/plain": [
       "<Figure size 432x288 with 1 Axes>"
      ]
     },
     "metadata": {
      "needs_background": "light"
     },
     "output_type": "display_data"
    },
    {
     "data": {
      "image/png": "[encoded data removed]",
      "text/plain": [
       "<Figure size 432x288 with 1 Axes>"
      ]
     },
     "metadata": {
      "needs_background": "light"
     },
     "output_type": "display_data"
    },
    {
     "data": {
      "image/png": "[encoded data removed]",
      "text/plain": [
       "<Figure size 432x288 with 1 Axes>"
      ]
     },
     "metadata": {
      "needs_background": "light"
     },
     "output_type": "display_data"
    },
    {
     "data": {
      "image/png": "[encoded data removed]",
      "text/plain": [
       "<Figure size 432x288 with 1 Axes>"
      ]
     },
     "metadata": {
      "needs_background": "light"
     },
     "output_type": "display_data"
    },
    {
     "data": {
      "image/png": "[encoded data removed]",
      "text/plain": [
       "<Figure size 432x288 with 1 Axes>"
      ]
     },
     "metadata": {
      "needs_background": "light"
     },
     "output_type": "display_data"
    },
    {
     "data": {
      "image/png": "[encoded data removed]",
      "text/plain": [
       "<Figure size 432x288 with 1 Axes>"
      ]
     },
     "metadata": {
      "needs_background": "light"
     },
     "output_type": "display_data"
    }
   ],
   "source": [
    "# Compare distributions of features bewtween control and experiment group\n",
    "features = train_data.columns[3:].to_list()\n",
    "\n",
    "for feature in features:\n",
    "    plt.hist(train_data[feature][train_data['Promotion'] == 'Yes'], alpha = 0.5)    # blue\n",
    "    plt.hist(train_data[feature][train_data['Promotion'] == 'No'], alpha = 0.5)     # yellow\n",
    "    plt.title('Distribution of {}'.format(feature))\n",
    "    plt.show()"
   ]
  },
  {
   "cell_type": "markdown",
   "metadata": {},
   "source": [
    "Data of both control and experiment group is evenly distributed."
   ]
  },
  {
   "cell_type": "code",
   "execution_count": 72,
   "metadata": {},
   "outputs": [
    {
     "name": "stdout",
     "output_type": "stream",
     "text": [
      "V1_0\n",
      "p-value of obtaining the sample mean under the null: 0.0\n",
      "sample range (differences between control and exp. group): -0.010933751676807412-0.010519461808689215\n",
      "IRR = 0.011062233977679515\n",
      "NIR = -212.44999999999993\n",
      "purchases with promotion (experiment group): 98\n",
      "purchases without promotion (control group): 40\n",
      "difference in purchases: 58\n",
      "\n",
      "\n",
      "V1_1\n",
      "p-value of obtaining the sample mean under the null: 0.0\n",
      "sample range (differences between control and exp. group): -0.005463082385552237-0.005792099970236216\n",
      "IRR = 0.007244775554012248\n",
      "NIR = -1228.7999999999997\n",
      "purchases with promotion (experiment group): 252\n",
      "purchases without promotion (control group): 138\n",
      "difference in purchases: 114\n",
      "\n",
      "\n",
      "V1_2\n",
      "p-value of obtaining the sample mean under the null: 0.0\n",
      "sample range (differences between control and exp. group): -0.005724471606824549-0.00571145096117349\n",
      "IRR = 0.012436542369949698\n",
      "NIR = -395.0\n",
      "purchases with promotion (experiment group): 302\n",
      "purchases without promotion (control group): 103\n",
      "difference in purchases: 199\n",
      "\n",
      "\n",
      "V1_3\n",
      "p-value of obtaining the sample mean under the null: 0.0018\n",
      "sample range (differences between control and exp. group): -0.009184059950296053-0.008581058661684302\n",
      "IRR = 0.005608252821598726\n",
      "NIR = -498.35\n",
      "purchases with promotion (experiment group): 69\n",
      "purchases without promotion (control group): 38\n",
      "difference in purchases: 31\n",
      "\n",
      "\n",
      "V4_1\n",
      "p-value of obtaining the sample mean under the null: 0.61197\n",
      "sample range (differences between control and exp. group): -0.004787256356711405-0.004374119390802873\n",
      "IRR = -0.0002836315436208197\n",
      "NIR = -2070.1499999999996\n",
      "purchases with promotion (experiment group): 95\n",
      "purchases without promotion (control group): 98\n",
      "difference in purchases: -3\n",
      "\n",
      "\n",
      "V4_2\n",
      "p-value of obtaining the sample mean under the null: 0.0\n",
      "sample range (differences between control and exp. group): -0.004390164636321572-0.004831810885930149\n",
      "IRR = 0.01406023392253487\n",
      "NIR = -264.4499999999998\n",
      "purchases with promotion (experiment group): 626\n",
      "purchases without promotion (control group): 221\n",
      "difference in purchases: 405\n",
      "\n",
      "\n",
      "V5_1\n",
      "p-value of obtaining the sample mean under the null: 0.0\n",
      "sample range (differences between control and exp. group): -0.007654545976629658-0.008033292804441825\n",
      "IRR = 0.013374601563440093\n",
      "NIR = -116.54999999999995\n",
      "purchases with promotion (experiment group): 158\n",
      "purchases without promotion (control group): 53\n",
      "difference in purchases: 105\n",
      "\n",
      "\n",
      "V5_2\n",
      "p-value of obtaining the sample mean under the null: 0.01007\n",
      "sample range (differences between control and exp. group): -0.004605842205800015-0.005460109020509839\n",
      "IRR = 0.002510716066764067\n",
      "NIR = -1948.35\n",
      "purchases with promotion (experiment group): 160\n",
      "purchases without promotion (control group): 121\n",
      "difference in purchases: 39\n",
      "\n",
      "\n",
      "V5_3\n",
      "p-value of obtaining the sample mean under the null: 0.0\n",
      "sample range (differences between control and exp. group): -0.006099901696633204-0.006480560002719227\n",
      "IRR = 0.01430835035369176\n",
      "NIR = -99.75\n",
      "purchases with promotion (experiment group): 360\n",
      "purchases without promotion (control group): 123\n",
      "difference in purchases: 237\n",
      "\n",
      "\n",
      "V5_4\n",
      "p-value of obtaining the sample mean under the null: 0.00273\n",
      "sample range (differences between control and exp. group): -0.014008446990294156-0.013701703550864438\n",
      "IRR = 0.008674031091479267\n",
      "NIR = -169.95\n",
      "purchases with promotion (experiment group): 43\n",
      "purchases without promotion (control group): 22\n",
      "difference in purchases: 21\n",
      "\n",
      "\n",
      "V6_1\n",
      "p-value of obtaining the sample mean under the null: 0.0\n",
      "sample range (differences between control and exp. group): -0.006861151181149895-0.00750161432251692\n",
      "IRR = 0.01064162633665217\n",
      "NIR = -457.70000000000005\n",
      "purchases with promotion (experiment group): 187\n",
      "purchases without promotion (control group): 75\n",
      "difference in purchases: 112\n",
      "\n",
      "\n",
      "V6_2\n",
      "p-value of obtaining the sample mean under the null: 0.0\n",
      "sample range (differences between control and exp. group): -0.006483853410001777-0.0066619139138069956\n",
      "IRR = 0.007610084978380253\n",
      "NIR = -779.25\n",
      "purchases with promotion (experiment group): 170\n",
      "purchases without promotion (control group): 89\n",
      "difference in purchases: 81\n",
      "\n",
      "\n",
      "V6_3\n",
      "p-value of obtaining the sample mean under the null: 0.0\n",
      "sample range (differences between control and exp. group): -0.006967059813494339-0.006823223325957835\n",
      "IRR = 0.010406783756518727\n",
      "NIR = -483.45000000000005\n",
      "purchases with promotion (experiment group): 190\n",
      "purchases without promotion (control group): 79\n",
      "difference in purchases: 111\n",
      "\n",
      "\n",
      "V6_4\n",
      "p-value of obtaining the sample mean under the null: 0.0\n",
      "sample range (differences between control and exp. group): -0.006515941105620501-0.006517867885419117\n",
      "IRR = 0.009166690573008613\n",
      "NIR = -614.2\n",
      "purchases with promotion (experiment group): 174\n",
      "purchases without promotion (control group): 76\n",
      "difference in purchases: 98\n",
      "\n",
      "\n",
      "V7_1\n",
      "p-value of obtaining the sample mean under the null: 0.0\n",
      "sample range (differences between control and exp. group): -0.006217954914019238-0.006310298381242925\n",
      "IRR = 0.011083046581076854\n",
      "NIR = -488.8499999999999\n",
      "purchases with promotion (experiment group): 228\n",
      "purchases without promotion (control group): 87\n",
      "difference in purchases: 141\n",
      "\n",
      "\n",
      "V7_2\n",
      "p-value of obtaining the sample mean under the null: 0.0\n",
      "sample range (differences between control and exp. group): -0.003851121875351216-0.003907647133868923\n",
      "IRR = 0.008761870946608281\n",
      "NIR = -1845.75\n",
      "purchases with promotion (experiment group): 493\n",
      "purchases without promotion (control group): 232\n",
      "difference in purchases: 261\n",
      "\n",
      "\n"
     ]
    }
   ],
   "source": [
    "# Create dummy variables for V1, V4-V7\n",
    "dummy_cols = ['V1', 'V4', 'V5', 'V6', 'V7']\n",
    "dummied_df = pd.get_dummies(train_data, columns = dummy_cols)\n",
    "\n",
    "# Repeat test for statistical significance for dummied variables\n",
    "dummy_features = dummied_df.columns[5:].to_list()\n",
    "\n",
    "best_vals = []\n",
    "\n",
    "for feature in dummy_features:\n",
    "    print(feature)\n",
    "    df = dummied_df[dummied_df[feature] == 1]\n",
    "    n_control = df.groupby('Promotion').size()[0]\n",
    "    n_exper = df.groupby('Promotion').size()[1]\n",
    "    p_null = df['purchase'].mean()\n",
    "    p_actual_purchase = df.groupby('Promotion').mean()['purchase']\n",
    "\n",
    "    n_trials = 200_000\n",
    "\n",
    "    control_puchases = np.random.binomial(n_control, p_null, n_trials)\n",
    "    experiment_puchases = np.random.binomial(n_exper, p_null, n_trials)\n",
    "    samples = experiment_puchases / n_exper - control_puchases / n_control\n",
    "    \n",
    "    print('p-value of obtaining the sample mean under the null: {}'.format((samples >= (p_actual_purchase['Yes'] - p_actual_purchase['No'])).mean()))\n",
    "    print('sample range (differences between control and exp. group): {}-{}'.format(min(samples), max(samples)))\n",
    "    \n",
    "    exper_purchases = df.groupby('Promotion').sum()['purchase']['Yes']\n",
    "    control_purchases = df.groupby('Promotion').sum()['purchase']['No']\n",
    "    purchases_diff = exper_purchases - control_purchases\n",
    "    \n",
    "    irr = exper_purchases / n_exper - control_purchases / n_control\n",
    "    nir = (10 * exper_purchases - 0.15 * n_exper) - 10 * control_purchases\n",
    "    \n",
    "    print('IRR = {}'.format(irr))\n",
    "    print('NIR = {}'.format(nir))\n",
    "    print('purchases with promotion (experiment group): {}'.format(exper_purchases))\n",
    "    print('purchases without promotion (control group): {}'.format(control_purchases))\n",
    "    print('difference in purchases: {}'.format(purchases_diff))\n",
    "    print('\\n')\n",
    "    \n",
    "    irr_nir_diff = []\n",
    "    irr_nir_diff.append(feature)\n",
    "    irr_nir_diff.append(irr)\n",
    "    irr_nir_diff.append(nir)\n",
    "    irr_nir_diff.append(purchases_diff)\n",
    "    best_vals.append(irr_nir_diff)"
   ]
  },
  {
   "cell_type": "code",
   "execution_count": 51,
   "metadata": {},
   "outputs": [
    {
     "name": "stdout",
     "output_type": "stream",
     "text": [
      "Bonferoni threshold for multiple test: 0.002380952380952381\n"
     ]
    }
   ],
   "source": [
    "print('Bonferroni threshold for multiple test: {}'.format(0.05 / dummied_df.shape[1]))"
   ]
  },
  {
   "cell_type": "markdown",
   "metadata": {},
   "source": [
    "--> Failed to reject the null hypothesis for features V4_1, V5_2, V5_4, since their p-values are above the Bonferroni threshold with value 1"
   ]
  },
  {
   "cell_type": "code",
   "execution_count": 99,
   "metadata": {},
   "outputs": [
    {
     "data": {
      "text/html": [
       "<div>\n",
       "<style scoped>\n",
       "    .dataframe tbody tr th:only-of-type {\n",
       "        vertical-align: middle;\n",
       "    }\n",
       "\n",
       "    .dataframe tbody tr th {\n",
       "        vertical-align: top;\n",
       "    }\n",
       "\n",
       "    .dataframe thead th {\n",
       "        text-align: right;\n",
       "    }\n",
       "</style>\n",
       "<table border=\"1\" class=\"dataframe\">\n",
       "  <thead>\n",
       "    <tr style=\"text-align: right;\">\n",
       "      <th></th>\n",
       "      <th>feature</th>\n",
       "      <th>irr</th>\n",
       "      <th>nir</th>\n",
       "      <th>difference</th>\n",
       "    </tr>\n",
       "  </thead>\n",
       "  <tbody>\n",
       "    <tr>\n",
       "      <th>8</th>\n",
       "      <td>V5_3</td>\n",
       "      <td>0.014308</td>\n",
       "      <td>-99.75</td>\n",
       "      <td>237</td>\n",
       "    </tr>\n",
       "    <tr>\n",
       "      <th>5</th>\n",
       "      <td>V4_2</td>\n",
       "      <td>0.014060</td>\n",
       "      <td>-264.45</td>\n",
       "      <td>405</td>\n",
       "    </tr>\n",
       "    <tr>\n",
       "      <th>6</th>\n",
       "      <td>V5_1</td>\n",
       "      <td>0.013375</td>\n",
       "      <td>-116.55</td>\n",
       "      <td>105</td>\n",
       "    </tr>\n",
       "  </tbody>\n",
       "</table>\n",
       "</div>"
      ],
      "text/plain": [
       "  feature       irr     nir  difference\n",
       "8    V5_3  0.014308  -99.75         237\n",
       "5    V4_2  0.014060 -264.45         405\n",
       "6    V5_1  0.013375 -116.55         105"
      ]
     },
     "execution_count": 99,
     "metadata": {},
     "output_type": "execute_result"
    }
   ],
   "source": [
    "best_vals_df = pd.DataFrame(best_vals, columns = ['feature', 'irr', 'nir', 'difference'])\n",
    "best_vals_df.sort_values(by = 'irr', ascending = False).head(3)"
   ]
  },
  {
   "cell_type": "code",
   "execution_count": 100,
   "metadata": {},
   "outputs": [
    {
     "data": {
      "text/html": [
       "<div>\n",
       "<style scoped>\n",
       "    .dataframe tbody tr th:only-of-type {\n",
       "        vertical-align: middle;\n",
       "    }\n",
       "\n",
       "    .dataframe tbody tr th {\n",
       "        vertical-align: top;\n",
       "    }\n",
       "\n",
       "    .dataframe thead th {\n",
       "        text-align: right;\n",
       "    }\n",
       "</style>\n",
       "<table border=\"1\" class=\"dataframe\">\n",
       "  <thead>\n",
       "    <tr style=\"text-align: right;\">\n",
       "      <th></th>\n",
       "      <th>feature</th>\n",
       "      <th>irr</th>\n",
       "      <th>nir</th>\n",
       "      <th>difference</th>\n",
       "    </tr>\n",
       "  </thead>\n",
       "  <tbody>\n",
       "    <tr>\n",
       "      <th>8</th>\n",
       "      <td>V5_3</td>\n",
       "      <td>0.014308</td>\n",
       "      <td>-99.75</td>\n",
       "      <td>237</td>\n",
       "    </tr>\n",
       "    <tr>\n",
       "      <th>6</th>\n",
       "      <td>V5_1</td>\n",
       "      <td>0.013375</td>\n",
       "      <td>-116.55</td>\n",
       "      <td>105</td>\n",
       "    </tr>\n",
       "    <tr>\n",
       "      <th>9</th>\n",
       "      <td>V5_4</td>\n",
       "      <td>0.008674</td>\n",
       "      <td>-169.95</td>\n",
       "      <td>21</td>\n",
       "    </tr>\n",
       "  </tbody>\n",
       "</table>\n",
       "</div>"
      ],
      "text/plain": [
       "  feature       irr     nir  difference\n",
       "8    V5_3  0.014308  -99.75         237\n",
       "6    V5_1  0.013375 -116.55         105\n",
       "9    V5_4  0.008674 -169.95          21"
      ]
     },
     "execution_count": 100,
     "metadata": {},
     "output_type": "execute_result"
    }
   ],
   "source": [
    "best_vals_df.sort_values(by = 'nir', ascending = False).head(3)"
   ]
  },
  {
   "cell_type": "code",
   "execution_count": 101,
   "metadata": {},
   "outputs": [
    {
     "data": {
      "text/html": [
       "<div>\n",
       "<style scoped>\n",
       "    .dataframe tbody tr th:only-of-type {\n",
       "        vertical-align: middle;\n",
       "    }\n",
       "\n",
       "    .dataframe tbody tr th {\n",
       "        vertical-align: top;\n",
       "    }\n",
       "\n",
       "    .dataframe thead th {\n",
       "        text-align: right;\n",
       "    }\n",
       "</style>\n",
       "<table border=\"1\" class=\"dataframe\">\n",
       "  <thead>\n",
       "    <tr style=\"text-align: right;\">\n",
       "      <th></th>\n",
       "      <th>feature</th>\n",
       "      <th>irr</th>\n",
       "      <th>nir</th>\n",
       "      <th>difference</th>\n",
       "    </tr>\n",
       "  </thead>\n",
       "  <tbody>\n",
       "    <tr>\n",
       "      <th>5</th>\n",
       "      <td>V4_2</td>\n",
       "      <td>0.014060</td>\n",
       "      <td>-264.45</td>\n",
       "      <td>405</td>\n",
       "    </tr>\n",
       "    <tr>\n",
       "      <th>15</th>\n",
       "      <td>V7_2</td>\n",
       "      <td>0.008762</td>\n",
       "      <td>-1845.75</td>\n",
       "      <td>261</td>\n",
       "    </tr>\n",
       "    <tr>\n",
       "      <th>8</th>\n",
       "      <td>V5_3</td>\n",
       "      <td>0.014308</td>\n",
       "      <td>-99.75</td>\n",
       "      <td>237</td>\n",
       "    </tr>\n",
       "  </tbody>\n",
       "</table>\n",
       "</div>"
      ],
      "text/plain": [
       "   feature       irr      nir  difference\n",
       "5     V4_2  0.014060  -264.45         405\n",
       "15    V7_2  0.008762 -1845.75         261\n",
       "8     V5_3  0.014308   -99.75         237"
      ]
     },
     "execution_count": 101,
     "metadata": {},
     "output_type": "execute_result"
    }
   ],
   "source": [
    "best_vals_df.sort_values(by = 'difference', ascending = False).head(3)"
   ]
  },
  {
   "cell_type": "markdown",
   "metadata": {},
   "source": [
    "### Conclusion\n",
    "Based on the best_vals_df (and the above analyses on statistical significance) I would send out promotions for customers with V5 = 1 or 3 and V4 = 2."
   ]
  },
  {
   "cell_type": "code",
   "execution_count": 91,
   "metadata": {},
   "outputs": [],
   "source": [
    "def promotion_strategy(df):\n",
    "    '''\n",
    "    INPUT \n",
    "    df - a dataframe with *only* the columns V1 - V7 (same as train_data)\n",
    "\n",
    "    OUTPUT\n",
    "    promotion_df - np.array with the values\n",
    "                   'Yes' or 'No' related to whether or not an \n",
    "                   individual should recieve a promotion \n",
    "                   should be the length of df.shape[0]\n",
    "                \n",
    "    Ex:\n",
    "    INPUT: df\n",
    "    \n",
    "    V1\tV2\t  V3\tV4\tV5\tV6\tV7\n",
    "    2\t30\t-1.1\t1\t1\t3\t2\n",
    "    3\t32\t-0.6\t2\t3\t2\t2\n",
    "    2\t30\t0.13\t1\t1\t4\t2\n",
    "    \n",
    "    OUTPUT: promotion\n",
    "    \n",
    "    array(['Yes', 'Yes', 'No'])\n",
    "    indicating the first two users would recieve the promotion and \n",
    "    the last should not.\n",
    "    '''\n",
    "    promotion = []\n",
    "    \n",
    "    for index, row in df.iterrows():\n",
    "        if row['V5'] == 3 or row['V5'] == 1:\n",
    "            if row['V4'] == 2:\n",
    "                promotion.append('Yes')\n",
    "            else:\n",
    "                promotion.append('No')\n",
    "        else:\n",
    "            promotion.append('No')\n",
    "          \n",
    "    return np.array(promotion)"
   ]
  },
  {
   "cell_type": "code",
   "execution_count": 92,
   "metadata": {},
   "outputs": [
    {
     "name": "stdout",
     "output_type": "stream",
     "text": [
      "Nice job!  See how well your strategy worked on our test data below!\n",
      "\n",
      "Your irr with this strategy is 0.0205.\n",
      "\n",
      "Your nir with this strategy is 424.65.\n",
      "We came up with a model with an irr of 0.0188 and an nir of 189.45 on the test set.\n",
      "\n",
      " How did you do?\n"
     ]
    },
    {
     "data": {
      "text/plain": [
       "(0.020476413967413624, 424.6500000000001)"
      ]
     },
     "execution_count": 92,
     "metadata": {},
     "output_type": "execute_result"
    }
   ],
   "source": [
    "# This will test your results, and provide you back some information \n",
    "# on how well your promotion_strategy will work in practice\n",
    "\n",
    "test_results(promotion_strategy)"
   ]
  }
 ],
 "metadata": {
  "kernelspec": {
   "display_name": "Python 3",
   "language": "python",
   "name": "python3"
  },
  "language_info": {
   "codemirror_mode": {
    "name": "ipython",
    "version": 3
   },
   "file_extension": ".py",
   "mimetype": "text/x-python",
   "name": "python",
   "nbconvert_exporter": "python",
   "pygments_lexer": "ipython3",
   "version": "3.7.6"
  }
 },
 "nbformat": 4,
 "nbformat_minor": 2
}
